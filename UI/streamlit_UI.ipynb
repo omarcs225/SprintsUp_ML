{
  "nbformat": 4,
  "nbformat_minor": 0,
  "metadata": {
    "colab": {
      "provenance": []
    },
    "kernelspec": {
      "name": "python3",
      "display_name": "Python 3"
    },
    "language_info": {
      "name": "python"
    }
  },
  "cells": [
    {
      "cell_type": "code",
      "source": [
        "!pip install streamlit -q\n",
        "!pip install pyngrok\n"
      ],
      "metadata": {
        "id": "oJQeBR5gbIEg",
        "colab": {
          "base_uri": "https://localhost:8080/"
        },
        "outputId": "0d50d382-20b8-4a64-8324-86b126270d6f"
      },
      "execution_count": 15,
      "outputs": [
        {
          "output_type": "stream",
          "name": "stdout",
          "text": [
            "Requirement already satisfied: pyngrok in /usr/local/lib/python3.11/dist-packages (7.2.12)\n",
            "Requirement already satisfied: PyYAML>=5.1 in /usr/local/lib/python3.11/dist-packages (from pyngrok) (6.0.2)\n"
          ]
        }
      ]
    },
    {
      "cell_type": "code",
      "execution_count": 18,
      "metadata": {
        "colab": {
          "base_uri": "https://localhost:8080/"
        },
        "id": "Ux1EcyBxaehQ",
        "outputId": "917d862e-34f5-4b04-eac2-63bf2cd1fe39"
      },
      "outputs": [
        {
          "output_type": "stream",
          "name": "stdout",
          "text": [
            "Overwriting app.py\n"
          ]
        }
      ],
      "source": [
        "%%writefile app.py\n",
        "\n",
        "import streamlit as st\n",
        "import pandas as pd\n",
        "import numpy as np\n",
        "import joblib\n",
        "import matplotlib.pyplot as plt\n",
        "import seaborn as sns\n",
        "\n",
        "# Load the trained model\n",
        "model = joblib.load(\"/content/best_rf_model.pkl\")\n",
        "\n",
        "# Page title\n",
        "st.title(\" Heart Disease Risk Predictor\")\n",
        "\n",
        "st.markdown(\"Enter patient health data to predict the risk of heart disease.\")\n",
        "\n",
        "# Input fields\n",
        "age = st.slider(\"Age\", 29, 77, 54)\n",
        "sex = st.selectbox(\"Sex\", [0, 1])  # 1 = male, 0 = female\n",
        "cp = st.selectbox(\"Chest Pain Type (cp)\", [0, 1, 2, 3])\n",
        "trestbps = st.slider(\"Resting Blood Pressure\", 90, 200, 130)\n",
        "chol = st.slider(\"Serum Cholesterol (mg/dl)\", 100, 600, 250)\n",
        "thalach = st.slider(\"Max Heart Rate Achieved\", 70, 210, 150)\n",
        "exang = st.selectbox(\"Exercise Induced Angina\", [0, 1])\n",
        "oldpeak = st.slider(\"ST depression (oldpeak)\", 0.0, 6.2, 1.0)\n",
        "slope = st.selectbox(\"Slope of ST Segment\", [0, 1, 2])\n",
        "\n",
        "# Create a DataFrame for model input\n",
        "# Only include these 9 features (example)\n",
        "input_data = pd.DataFrame([[age, sex, cp, trestbps, chol, thalach, exang, oldpeak, slope]],\n",
        "                          columns=['age', 'sex', 'cp', 'trestbps', 'chol', 'thalach', 'exang', 'oldpeak', 'slope'])\n",
        "\n",
        "# Prediction\n",
        "if st.button(\"Predict Heart Disease Risk\"):\n",
        "    prediction = model.predict(input_data)[0]\n",
        "    prob = model.predict_proba(input_data)[0][1]\n",
        "\n",
        "    if prediction == 1:\n",
        "        st.error(f\"⚠️ High Risk of Heart Disease! (Probability: {prob:.2f})\")\n",
        "    else:\n",
        "        st.success(f\"✅ Low Risk of Heart Disease (Probability: {prob:.2f})\")\n",
        "\n",
        "# Optional: Upload dataset for EDA\n",
        "st.markdown(\"---\")\n",
        "st.subheader(\"📈 Explore Heart Disease Dataset\")\n",
        "\n",
        "uploaded_file = st.file_uploader(\"Upload Preprocessed CSV File\", type=[\"csv\"])\n",
        "if uploaded_file:\n",
        "    df = pd.read_csv(uploaded_file)\n",
        "    st.write(df.head())\n",
        "\n",
        "    # Basic stats\n",
        "    st.write(\"### Heart Disease Distribution\")\n",
        "    st.bar_chart(df['target'].value_counts())\n",
        "\n",
        "    st.write(\"### Age vs Cholesterol\")\n",
        "    fig, ax = plt.subplots()\n",
        "    sns.scatterplot(data=df, x='age', y='chol', hue='target', palette='coolwarm', ax=ax)\n",
        "    st.pyplot(fig)\n",
        "\n",
        "    st.write(\"### Correlation Heatmap\")\n",
        "    fig, ax = plt.subplots(figsize=(10, 6))\n",
        "    sns.heatmap(df.corr(), annot=False, cmap='coolwarm', ax=ax)\n",
        "    st.pyplot(fig)\n"
      ]
    },
    {
      "cell_type": "code",
      "source": [
        "from pyngrok import ngrok\n",
        "\n",
        "# Set authentication token if you haven't already done so\n",
        "ngrok.set_auth_token(\"3092vqAySryEkrGzx6XAj4fCCOM_4KTHgsxN9piydxcgTfq3q\")\n",
        "# Start Streamlit server on a specific port\n",
        "!nohup streamlit run app.py --server.port 5011 &\n",
        "# Start ngrok tunnel to expose the Streamlit server\n",
        "ngrok_tunnel = ngrok.connect(addr=\"5011\", proto=\"http\", bind_tls=True)\n",
        "\n",
        "# Print the URL of the ngrok tunnel\n",
        "print(\"Your Streamlit app is running at:\", ngrok_tunnel.public_url)"
      ],
      "metadata": {
        "colab": {
          "base_uri": "https://localhost:8080/"
        },
        "id": "alXeEmnwlU28",
        "outputId": "e990a1ab-22e9-4c41-c6a9-a0e36b4f4ea9"
      },
      "execution_count": 19,
      "outputs": [
        {
          "output_type": "stream",
          "name": "stdout",
          "text": [
            "nohup: appending output to 'nohup.out'\n",
            "Your Streamlit app is running at: https://0bb8b3e50808.ngrok-free.app\n"
          ]
        }
      ]
    }
  ]
}